{
 "cells": [
  {
   "cell_type": "markdown",
   "metadata": {},
   "source": [
    "# Imports"
   ]
  },
  {
   "cell_type": "code",
   "execution_count": 1,
   "metadata": {},
   "outputs": [],
   "source": [
    "import pandas as pd\n",
    "from sklearn.model_selection import train_test_split\n",
    "from sklearn.ensemble import RandomForestRegressor\n",
    "from sklearn.multioutput import MultiOutputRegressor\n",
    "from sklearn.preprocessing import LabelEncoder\n",
    "from sklearn.metrics import mean_squared_error, accuracy_score"
   ]
  },
  {
   "cell_type": "markdown",
   "metadata": {},
   "source": [
    "# Dataset Prep"
   ]
  },
  {
   "cell_type": "code",
   "execution_count": 2,
   "metadata": {},
   "outputs": [],
   "source": [
    "df = pd.read_csv('EPL_Set.csv')\n",
    "df = df.dropna()"
   ]
  },
  {
   "cell_type": "markdown",
   "metadata": {},
   "source": [
    "## Encode team names using Label Encoding (HomeTeam and AwayTeam)\n"
   ]
  },
  {
   "cell_type": "code",
   "execution_count": 3,
   "metadata": {},
   "outputs": [],
   "source": [
    "le = LabelEncoder()\n",
    "df['HomeTeam'] = le.fit_transform(df['HomeTeam'])\n",
    "df['AwayTeam'] = le.fit_transform(df['AwayTeam'])"
   ]
  },
  {
   "cell_type": "code",
   "execution_count": 4,
   "metadata": {},
   "outputs": [],
   "source": [
    "le_result = LabelEncoder()\n",
    "df['FTR'] = le_result.fit_transform(df['FTR'])  # 'H' -> 1, 'D' -> 0, 'A' -> 2\n",
    "df['HTR'] = le_result.fit_transform(df['HTR'])  # 'H' -> 1, 'D' -> 0, 'A' -> 2"
   ]
  },
  {
   "cell_type": "code",
   "execution_count": 5,
   "metadata": {},
   "outputs": [],
   "source": [
    "# Adding new features\n",
    "df['GoalDiffHome'] = df['FTHG'] - df['FTAG']  # Goal difference at full time\n",
    "df['GoalDiffHalf'] = df['HTHG'] - df['HTAG']  # Goal difference at half time\n",
    "\n",
    "# Adding rolling average of goals in the last 5 matches\n",
    "df['HomeGoalsLast5'] = df.groupby('HomeTeam')['FTHG'].shift().rolling(5).mean()\n",
    "df['AwayGoalsLast5'] = df.groupby('AwayTeam')['FTAG'].shift().rolling(5).mean()"
   ]
  },
  {
   "cell_type": "markdown",
   "metadata": {},
   "source": [
    "## Define features and target variable"
   ]
  },
  {
   "cell_type": "code",
   "execution_count": 6,
   "metadata": {},
   "outputs": [],
   "source": [
    "X = df[['HomeTeam', 'AwayTeam', 'GoalDiffHome', 'GoalDiffHalf', 'HomeGoalsLast5', 'AwayGoalsLast5']]\n",
    "y = df[['FTHG', 'FTAG', 'HTHG', 'HTAG', 'FTR', 'HTR']]"
   ]
  },
  {
   "cell_type": "code",
   "execution_count": 7,
   "metadata": {},
   "outputs": [
    {
     "data": {
      "text/html": [
       "<div>\n",
       "<style scoped>\n",
       "    .dataframe tbody tr th:only-of-type {\n",
       "        vertical-align: middle;\n",
       "    }\n",
       "\n",
       "    .dataframe tbody tr th {\n",
       "        vertical-align: top;\n",
       "    }\n",
       "\n",
       "    .dataframe thead th {\n",
       "        text-align: right;\n",
       "    }\n",
       "</style>\n",
       "<table border=\"1\" class=\"dataframe\">\n",
       "  <thead>\n",
       "    <tr style=\"text-align: right;\">\n",
       "      <th></th>\n",
       "      <th>Div</th>\n",
       "      <th>Date</th>\n",
       "      <th>HomeTeam</th>\n",
       "      <th>AwayTeam</th>\n",
       "      <th>FTHG</th>\n",
       "      <th>FTAG</th>\n",
       "      <th>FTR</th>\n",
       "      <th>HTHG</th>\n",
       "      <th>HTAG</th>\n",
       "      <th>HTR</th>\n",
       "      <th>Season</th>\n",
       "      <th>GoalDiffHome</th>\n",
       "      <th>GoalDiffHalf</th>\n",
       "      <th>HomeGoalsLast5</th>\n",
       "      <th>AwayGoalsLast5</th>\n",
       "    </tr>\n",
       "  </thead>\n",
       "  <tbody>\n",
       "    <tr>\n",
       "      <th>924</th>\n",
       "      <td>E0</td>\n",
       "      <td>19/08/95</td>\n",
       "      <td>1</td>\n",
       "      <td>26</td>\n",
       "      <td>3</td>\n",
       "      <td>1</td>\n",
       "      <td>2</td>\n",
       "      <td>3.0</td>\n",
       "      <td>0.0</td>\n",
       "      <td>2</td>\n",
       "      <td>1995-96</td>\n",
       "      <td>2</td>\n",
       "      <td>3.0</td>\n",
       "      <td>NaN</td>\n",
       "      <td>NaN</td>\n",
       "    </tr>\n",
       "    <tr>\n",
       "      <th>925</th>\n",
       "      <td>E0</td>\n",
       "      <td>19/08/95</td>\n",
       "      <td>4</td>\n",
       "      <td>33</td>\n",
       "      <td>1</td>\n",
       "      <td>0</td>\n",
       "      <td>2</td>\n",
       "      <td>1.0</td>\n",
       "      <td>0.0</td>\n",
       "      <td>2</td>\n",
       "      <td>1995-96</td>\n",
       "      <td>1</td>\n",
       "      <td>1.0</td>\n",
       "      <td>NaN</td>\n",
       "      <td>NaN</td>\n",
       "    </tr>\n",
       "    <tr>\n",
       "      <th>926</th>\n",
       "      <td>E0</td>\n",
       "      <td>19/08/95</td>\n",
       "      <td>13</td>\n",
       "      <td>17</td>\n",
       "      <td>0</td>\n",
       "      <td>0</td>\n",
       "      <td>1</td>\n",
       "      <td>0.0</td>\n",
       "      <td>0.0</td>\n",
       "      <td>1</td>\n",
       "      <td>1995-96</td>\n",
       "      <td>0</td>\n",
       "      <td>0.0</td>\n",
       "      <td>NaN</td>\n",
       "      <td>NaN</td>\n",
       "    </tr>\n",
       "    <tr>\n",
       "      <th>927</th>\n",
       "      <td>E0</td>\n",
       "      <td>19/08/95</td>\n",
       "      <td>24</td>\n",
       "      <td>36</td>\n",
       "      <td>1</td>\n",
       "      <td>0</td>\n",
       "      <td>2</td>\n",
       "      <td>0.0</td>\n",
       "      <td>0.0</td>\n",
       "      <td>1</td>\n",
       "      <td>1995-96</td>\n",
       "      <td>1</td>\n",
       "      <td>0.0</td>\n",
       "      <td>NaN</td>\n",
       "      <td>NaN</td>\n",
       "    </tr>\n",
       "    <tr>\n",
       "      <th>928</th>\n",
       "      <td>E0</td>\n",
       "      <td>19/08/95</td>\n",
       "      <td>25</td>\n",
       "      <td>41</td>\n",
       "      <td>1</td>\n",
       "      <td>1</td>\n",
       "      <td>1</td>\n",
       "      <td>0.0</td>\n",
       "      <td>1.0</td>\n",
       "      <td>0</td>\n",
       "      <td>1995-96</td>\n",
       "      <td>0</td>\n",
       "      <td>-1.0</td>\n",
       "      <td>NaN</td>\n",
       "      <td>NaN</td>\n",
       "    </tr>\n",
       "  </tbody>\n",
       "</table>\n",
       "</div>"
      ],
      "text/plain": [
       "    Div      Date  HomeTeam  AwayTeam  FTHG  FTAG  FTR  HTHG  HTAG  HTR  \\\n",
       "924  E0  19/08/95         1        26     3     1    2   3.0   0.0    2   \n",
       "925  E0  19/08/95         4        33     1     0    2   1.0   0.0    2   \n",
       "926  E0  19/08/95        13        17     0     0    1   0.0   0.0    1   \n",
       "927  E0  19/08/95        24        36     1     0    2   0.0   0.0    1   \n",
       "928  E0  19/08/95        25        41     1     1    1   0.0   1.0    0   \n",
       "\n",
       "      Season  GoalDiffHome  GoalDiffHalf  HomeGoalsLast5  AwayGoalsLast5  \n",
       "924  1995-96             2           3.0             NaN             NaN  \n",
       "925  1995-96             1           1.0             NaN             NaN  \n",
       "926  1995-96             0           0.0             NaN             NaN  \n",
       "927  1995-96             1           0.0             NaN             NaN  \n",
       "928  1995-96             0          -1.0             NaN             NaN  "
      ]
     },
     "execution_count": 7,
     "metadata": {},
     "output_type": "execute_result"
    }
   ],
   "source": [
    "df.head()"
   ]
  },
  {
   "cell_type": "markdown",
   "metadata": {},
   "source": [
    "# Model"
   ]
  },
  {
   "cell_type": "code",
   "execution_count": 18,
   "metadata": {},
   "outputs": [],
   "source": [
    "X_train, X_test, y_train, y_test = train_test_split(X, y, test_size=0.2, random_state=1)\n",
    "\n",
    "from sklearn.impute import SimpleImputer\n",
    "\n",
    "# Impute missing values by filling with the mean\n",
    "imputer = SimpleImputer(strategy='mean')\n",
    "X_train = imputer.fit_transform(X_train)\n",
    "X_test = imputer.transform(X_test)"
   ]
  },
  {
   "cell_type": "code",
   "execution_count": 19,
   "metadata": {},
   "outputs": [],
   "source": [
    "model = MultiOutputRegressor(RandomForestRegressor(random_state=1))\n",
    "model.fit(X_train, y_train)\n",
    "y_pred = model.predict(X_test)"
   ]
  },
  {
   "cell_type": "markdown",
   "metadata": {},
   "source": [
    "## Extract predicted values for each target\n"
   ]
  },
  {
   "cell_type": "code",
   "execution_count": 20,
   "metadata": {},
   "outputs": [],
   "source": [
    "y_pred_fthg = y_pred[:, 0]  # Predicted Full-Time Home Goals\n",
    "y_pred_ftag = y_pred[:, 1]  # Predicted Full-Time Away Goals\n",
    "y_pred_hthg = y_pred[:, 2]  # Predicted Half-Time Home Goals\n",
    "y_pred_htag = y_pred[:, 3]  # Predicted Half-Time Away Goals\n",
    "y_pred_ftr = y_pred[:, 4]   # Predicted Full-Time Result\n",
    "y_pred_htr = y_pred[:, 5]   # Predicted Half-Time Result"
   ]
  },
  {
   "cell_type": "markdown",
   "metadata": {},
   "source": [
    "## Evaluate the regression targets (FTHG, FTAG, HTHG, HTAG) using MSE\n"
   ]
  },
  {
   "cell_type": "code",
   "execution_count": 21,
   "metadata": {},
   "outputs": [],
   "source": [
    "mse_fthg = mean_squared_error(y_test['FTHG'], y_pred_fthg)\n",
    "mse_ftag = mean_squared_error(y_test['FTAG'], y_pred_ftag)\n",
    "mse_hthg = mean_squared_error(y_test['HTHG'], y_pred_hthg)\n",
    "mse_htag = mean_squared_error(y_test['HTAG'], y_pred_htag)"
   ]
  },
  {
   "cell_type": "code",
   "execution_count": 22,
   "metadata": {},
   "outputs": [
    {
     "name": "stdout",
     "output_type": "stream",
     "text": [
      "Mean Squared Error for FTHG: 0.5262170043055362\n",
      "Mean Squared Error for FTAG: 0.5222589178455325\n",
      "Mean Squared Error for HTHG: 0.19622780098765288\n",
      "Mean Squared Error for HTAG: 0.19691513952745476\n"
     ]
    }
   ],
   "source": [
    "print(f'Mean Squared Error for FTHG: {mse_fthg}')\n",
    "print(f'Mean Squared Error for FTAG: {mse_ftag}')\n",
    "print(f'Mean Squared Error for HTHG: {mse_hthg}')\n",
    "print(f'Mean Squared Error for HTAG: {mse_htag}')"
   ]
  },
  {
   "cell_type": "code",
   "execution_count": 23,
   "metadata": {},
   "outputs": [],
   "source": [
    "y_pred_ftr = y_pred_ftr.round().astype(int)\n",
    "y_pred_htr = y_pred_htr.round().astype(int)\n",
    "accuracy_ftr = accuracy_score(y_test['FTR'], y_pred_ftr)\n",
    "accuracy_htr = accuracy_score(y_test['HTR'], y_pred_htr)\n"
   ]
  },
  {
   "cell_type": "code",
   "execution_count": 24,
   "metadata": {},
   "outputs": [
    {
     "name": "stdout",
     "output_type": "stream",
     "text": [
      "Accuracy for Full-Time Result (FTR): 1.0\n",
      "Accuracy for Half-Time Result (HTR): 1.0\n"
     ]
    }
   ],
   "source": [
    "print(f'Accuracy for Full-Time Result (FTR): {accuracy_ftr}')\n",
    "print(f'Accuracy for Half-Time Result (HTR): {accuracy_htr}')"
   ]
  }
 ],
 "metadata": {
  "kernelspec": {
   "display_name": "Python 3",
   "language": "python",
   "name": "python3"
  },
  "language_info": {
   "codemirror_mode": {
    "name": "ipython",
    "version": 3
   },
   "file_extension": ".py",
   "mimetype": "text/x-python",
   "name": "python",
   "nbconvert_exporter": "python",
   "pygments_lexer": "ipython3",
   "version": "3.11.5"
  }
 },
 "nbformat": 4,
 "nbformat_minor": 2
}
